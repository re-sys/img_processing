{
 "cells": [
  {
   "cell_type": "code",
   "execution_count": null,
   "metadata": {},
   "outputs": [],
   "source": []
  },
  {
   "cell_type": "code",
   "execution_count": 1,
   "metadata": {},
   "outputs": [],
   "source": [
    "#完成插值\n",
    "\n",
    "import numpy as np\n",
    "import cv2\n",
    "img = cv2.imread(\"rice.tif\",cv2.IMREAD_GRAYSCALE)\n",
    "\n",
    "def showimg(img):\n",
    "    cv2.imshow(\"hello\",img)\n",
    "    cv2.waitKey(0)\n",
    "    cv2.destroyAllWindows()"
   ]
  },
  {
   "cell_type": "code",
   "execution_count": null,
   "metadata": {},
   "outputs": [
    {
     "name": "stdout",
     "output_type": "stream",
     "text": [
      "[[122  97 104 ... 181 105 100]\n",
      " [ 87  99 105 ... 100  93  94]\n",
      " [ 97 101  96 ... 100  97 101]\n",
      " ...\n",
      " [ 51  48  50 ...  55  53  53]\n",
      " [ 41  52  57 ...  51  50  51]\n",
      " [ 41  54  51 ...  50  47  59]]\n"
     ]
    }
   ],
   "source": [
    "#双线性插值\n",
    "h,w = img.shape[:2]\n",
    "\n",
    "new_h, new_w=50, 100\n",
    "new_img = np.zeros((new_h,new_w),np.uint8)\n",
    "y_ratio=h/new_h\n",
    "x_ratio=w/new_w\n",
    "\n",
    "for i in range(new_w):\n",
    "    for j in range(new_h):\n",
    "        x1=int(i*x_ratio)\n",
    "        y1=int(j*y_ratio)\n",
    "        x2=min(x1+1,w-1)\n",
    "        y2=min(y1+1,h-1)\n",
    "\n",
    "        a=img[y1,x1]\n",
    "        b=img[y1,x2]\n",
    "        c=img[y2,x2]\n",
    "        d=img[y2,x1]\n",
    "\n",
    "        dx = i*x_ratio-x1\n",
    "        dy = j*y_ratio-y1\n",
    "        \n",
    "        new_img[j,i]=(1-dx)*(1-dy)*a+(1-dy)*dx*b+dx*dy*c+(1-dx)*dy*d\n",
    "print(new_img)\n",
    "showimg(new_img)"
   ]
  },
  {
   "cell_type": "code",
   "execution_count": 2,
   "metadata": {},
   "outputs": [],
   "source": [
    "#临近插值\n",
    "h,w = img.shape[:2]\n",
    "newh,neww=10,100\n",
    "new_img=np.zeros((newh,neww),dtype=img.dtype)\n",
    "x_ratio=w/neww\n",
    "y_ratio=h/newh\n",
    "for i in range(neww):\n",
    "    for j in range(newh):\n",
    "        x = min(round(i*x_ratio),w-1)\n",
    "        y = min(round(j*y_ratio),h-1)\n",
    "        new_img[j,i]=img[y,x]\n",
    "showimg(new_img)\n",
    "\n"
   ]
  },
  {
   "cell_type": "code",
   "execution_count": 3,
   "metadata": {},
   "outputs": [],
   "source": [
    "new_img = cv2.resize(img,(50,100),interpolation=cv2.INTER_CUBIC)#这里注意输入宽高的顺序，宽在前，高在后\n",
    "showimg(new_img)"
   ]
  }
 ],
 "metadata": {
  "kernelspec": {
   "display_name": "img",
   "language": "python",
   "name": "python3"
  },
  "language_info": {
   "codemirror_mode": {
    "name": "ipython",
    "version": 3
   },
   "file_extension": ".py",
   "mimetype": "text/x-python",
   "name": "python",
   "nbconvert_exporter": "python",
   "pygments_lexer": "ipython3",
   "version": "3.10.15"
  }
 },
 "nbformat": 4,
 "nbformat_minor": 2
}
