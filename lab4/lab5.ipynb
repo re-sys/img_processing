{
 "cells": [
  {
   "cell_type": "code",
   "execution_count": null,
   "metadata": {
    "vscode": {
     "languageId": "plaintext"
    }
   },
   "outputs": [],
   "source": [
    "import numpy as np\n",
    "import cv2\n",
    "import matplotlib.pyplot as plt\n",
    "\n",
    "# 1. 读取输入图像\n",
    "image = cv2.imread('Q5_1.tif', cv2.IMREAD_GRAYSCALE)\n",
    "\n",
    "# 获取图像尺寸\n",
    "M, N = image.shape\n",
    "\n",
    "# 2. 计算填充大小\n",
    "P = 2 * M\n",
    "Q = 2 * N\n",
    "\n",
    "# 3. 创建填充图像，并填充为0\n",
    "fp = np.zeros((P, Q), dtype=np.float32)\n",
    "fp[0:M, 0:N] = image\n",
    "\n",
    "# 4. 进行频域中心化\n",
    "fp *= (-1) ** (np.indices(fp.shape)[0] + np.indices(fp.shape)[1])\n",
    "\n",
    "# 5. 计算DFT\n",
    "F = np.fft.fft2(fp)\n",
    "\n",
    "# 6. 创建滤波器传递函数H(u,v)\n",
    "H = np.zeros((P, Q), dtype=np.float32)\n",
    "\n",
    "# 例如，创建简单的低通滤波器\n",
    "u = np.arange(P)\n",
    "v = np.arange(Q)\n",
    "U, V = np.meshgrid(u - P / 2, v - Q / 2)\n",
    "\n",
    "# 设定截止频率\n",
    "D0 = 30  # 可以根据需要修改\n",
    "\n",
    "# 低通滤波器的传递函数\n",
    "H = np.exp(-(U**2 + V**2) / (2 * (D0**2)))\n",
    "\n",
    "# 7. 计算 G(u,v) = H(u,v) * F(u,v)\n",
    "G = H * F\n",
    "\n",
    "# 8. 计算逆DFT，得到过滤后的图像\n",
    "gp = np.fft.ifft2(G)\n",
    "\n",
    "# 9. 中心化逆变换结果\n",
    "gp *= (-1) ** (np.indices(gp.shape)[0] + np.indices(gp.shape)[1])\n",
    "\n",
    "# 10. 提取与原始图像相同大小的区域\n",
    "g = np.real(gp[0:M, 0:N])  # 取实部\n",
    "\n",
    "# 11. 归一化处理（0到255）\n",
    "g = np.clip(g, 0, 255).astype(np.uint8)\n",
    "\n",
    "# 绘制结果\n",
    "plt.figure(figsize=(12, 6))\n",
    "plt.subplot(1, 2, 1)\n",
    "plt.imshow(image, cmap='gray')\n",
    "plt.title('原始图像')\n",
    "plt.axis('off')\n",
    "\n",
    "plt.subplot(1, 2, 2)\n",
    "plt.imshow(g, cmap='gray')\n",
    "plt.title('频域滤波后的图像')\n",
    "plt.axis('off')\n",
    "\n",
    "plt.show()\n"
   ]
  }
 ],
 "metadata": {
  "language_info": {
   "name": "python"
  }
 },
 "nbformat": 4,
 "nbformat_minor": 2
}
